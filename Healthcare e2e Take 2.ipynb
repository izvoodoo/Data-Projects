{
 "cells": [
  {
   "cell_type": "code",
   "execution_count": 2,
   "id": "dbca466c-43f5-404f-9d25-c8bc96b51367",
   "metadata": {},
   "outputs": [],
   "source": [
    "import pandas as pd\n",
    "\n",
    "# Set pandas display option to show 100 rows\n",
    "pd.set_option('display.max_rows', 50)"
   ]
  },
  {
   "cell_type": "code",
   "execution_count": 3,
   "id": "67cf0326-79b5-4546-8a3a-f0da57876f42",
   "metadata": {},
   "outputs": [
    {
     "name": "stderr",
     "output_type": "stream",
     "text": [
      "C:\\Users\\jUSTIN\\AppData\\Local\\Temp\\ipykernel_12552\\3179941947.py:1: DtypeWarning: Columns (0) have mixed types. Specify dtype option on import or set low_memory=False.\n",
      "  df = pd.read_csv('PBJ_Daily_Nurse_Staffing_Q2_2024.csv', encoding='latin1')\n"
     ]
    }
   ],
   "source": [
    "df = pd.read_csv('PBJ_Daily_Nurse_Staffing_Q2_2024.csv', encoding='latin1')"
   ]
  },
  {
   "cell_type": "code",
   "execution_count": 4,
   "id": "654b11b6-a817-47af-a6fb-32471e49e0f3",
   "metadata": {},
   "outputs": [],
   "source": [
    "# df['NurseHours_total'] = df['Hrs_RN']+df['Hrs_LPN']\n",
    "# df['NurseHours_emp'] = df['Hrs_RN_emp']+df['Hrs_LPN_ctr']\n",
    "# df['NurseHours_ctr'] = df['Hrs_RN_ctr']+df['Hrs_LPN_ctr']"
   ]
  },
  {
   "cell_type": "code",
   "execution_count": 5,
   "id": "4887be87-0aa5-4e5f-a57f-6b714848d513",
   "metadata": {},
   "outputs": [],
   "source": [
    "# resident_sums = df.groupby(['CITY','STATE']).sum(numeric_only=True).reset_index()"
   ]
  },
  {
   "cell_type": "code",
   "execution_count": 6,
   "id": "dfdde18f-1ff3-4521-a349-562f7c670372",
   "metadata": {},
   "outputs": [],
   "source": [
    "population = pd.read_csv('Population of all US Cities 2024.csv')"
   ]
  },
  {
   "cell_type": "code",
   "execution_count": 7,
   "id": "d229147a-ceba-4551-9214-868d5fbaf407",
   "metadata": {},
   "outputs": [],
   "source": [
    "df['PROVNAME'] = df['PROVNAME'].str.replace(',', '', regex=False)\n",
    "df = df.rename(columns={'Rank':'Population_Rank'})\n",
    "population['US City'] = population['US City'].str.replace(' (balance)','', regex=False)\n",
    "population['US City'] = population['US City'].replace('LOUISVILLE/JEFFERSON COUNTY', 'LOUISVILLE')"
   ]
  },
  {
   "cell_type": "code",
   "execution_count": 8,
   "id": "a77dbc8c-5432-4fd4-8a3d-28f3a3424b46",
   "metadata": {},
   "outputs": [],
   "source": [
    "state_to_acronym = {\n",
    "    'Alabama': 'AL', 'Alaska': 'AK', 'Arizona': 'AZ', 'Arkansas': 'AR',\n",
    "    'California': 'CA', 'Colorado': 'CO', 'Connecticut': 'CT', 'Delaware': 'DE',\n",
    "    'Florida': 'FL', 'Georgia': 'GA', 'Hawaii': 'HI', 'Idaho': 'ID',\n",
    "    'Illinois': 'IL', 'Indiana': 'IN', 'Iowa': 'IA', 'Kansas': 'KS',\n",
    "    'Kentucky': 'KY', 'Louisiana': 'LA', 'Maine': 'ME', 'Maryland': 'MD',\n",
    "    'Massachusetts': 'MA', 'Michigan': 'MI', 'Minnesota': 'MN', 'Mississippi': 'MS',\n",
    "    'Missouri': 'MO', 'Montana': 'MT', 'Nebraska': 'NE', 'Nevada': 'NV',\n",
    "    'New Hampshire': 'NH', 'New Jersey': 'NJ', 'New Mexico': 'NM', 'New York': 'NY',\n",
    "    'North Carolina': 'NC', 'North Dakota': 'ND', 'Ohio': 'OH', 'Oklahoma': 'OK',\n",
    "    'Oregon': 'OR', 'Pennsylvania': 'PA', 'Rhode Island': 'RI', 'South Carolina': 'SC',\n",
    "    'South Dakota': 'SD', 'Tennessee': 'TN', 'Texas': 'TX', 'Utah': 'UT',\n",
    "    'Vermont': 'VT', 'Virginia': 'VA', 'Washington': 'WA', 'West Virginia': 'WV',\n",
    "    'Wisconsin': 'WI', 'Wyoming': 'WY','District of Columbia':'DC'\n",
    "}"
   ]
  },
  {
   "cell_type": "code",
   "execution_count": 9,
   "id": "93c3e48f-15d9-41bf-b2e0-08a24d2197d4",
   "metadata": {},
   "outputs": [],
   "source": [
    "population['Acronym'] = population['US State'].map(state_to_acronym)"
   ]
  },
  {
   "cell_type": "code",
   "execution_count": 10,
   "id": "ad35d286-c17e-4adb-bf86-5eb55689ca31",
   "metadata": {},
   "outputs": [],
   "source": [
    "population['US City'] = population['US City'].str.upper()"
   ]
  },
  {
   "cell_type": "code",
   "execution_count": 11,
   "id": "c816cc9a-3792-4976-854c-dd84fdc8d768",
   "metadata": {},
   "outputs": [],
   "source": [
    "# answer = population[(population['US City'] == 'LOUISVILLE') & (population['Acronym'] == 'KY')]\n",
    "# answer"
   ]
  },
  {
   "cell_type": "code",
   "execution_count": 23,
   "id": "2eebc664-76d6-47d9-a1ee-b58ced7ea910",
   "metadata": {},
   "outputs": [],
   "source": [
    "# Answer3 = df[(df['CITY'] == 'LOUISVILLE') & (df['STATE'] == 'KY')]\n",
    "# Answer3"
   ]
  },
  {
   "cell_type": "code",
   "execution_count": 13,
   "id": "4aa8f409-b4be-4b60-861d-8a8c5aafc28c",
   "metadata": {},
   "outputs": [],
   "source": [
    "df_population_ratio = pd.merge(\n",
    "    df, \n",
    "    population, \n",
    "    left_on=['CITY', 'STATE'], \n",
    "    right_on=['US City', 'Acronym'], \n",
    "    how='inner'\n",
    ")"
   ]
  },
  {
   "cell_type": "code",
   "execution_count": 14,
   "id": "e2951429-2ca0-4b36-978a-14e1c0733d99",
   "metadata": {},
   "outputs": [],
   "source": [
    "# answer2 = df_population_ratio[df_population_ratio['CITY'] == 'LOUISVILLE']\n",
    "# answer2"
   ]
  },
  {
   "cell_type": "code",
   "execution_count": 15,
   "id": "9b7b6633-847c-474a-b841-0ea1ca8e72ef",
   "metadata": {},
   "outputs": [],
   "source": [
    "df_population_ratio_edited = df_population_ratio.drop(['COUNTY_FIPS','WorkDate','Density (/mile2)','Area (mile2)','Acronym'],axis=1)"
   ]
  },
  {
   "cell_type": "code",
   "execution_count": 16,
   "id": "b7dde6bf-ca0e-4791-afef-1b07ae5da998",
   "metadata": {},
   "outputs": [],
   "source": [
    "df_population_ratio_edited = df_population_ratio_edited[df_population_ratio_edited['MDScensus'] != 0]"
   ]
  },
  {
   "cell_type": "code",
   "execution_count": 17,
   "id": "d9123778-6ae2-4aa8-a492-0106c456c3b1",
   "metadata": {},
   "outputs": [],
   "source": [
    "# df_population_ratio_edited.info()"
   ]
  },
  {
   "cell_type": "code",
   "execution_count": 18,
   "id": "6899089a-b393-4040-a89f-3bdcb61325cf",
   "metadata": {},
   "outputs": [],
   "source": [
    "df_population_ratio_edited.to_csv('Population_With_Nursing_Data.csv', index=False)"
   ]
  },
  {
   "cell_type": "code",
   "execution_count": 25,
   "id": "5ec3af58-374b-4878-94fa-71c65c9815d9",
   "metadata": {},
   "outputs": [],
   "source": [
    "# for col in df.columns:\n",
    "#     print(col)"
   ]
  },
  {
   "cell_type": "code",
   "execution_count": 20,
   "id": "afe70b12-b262-458f-b1e1-ed6cf71b5ae9",
   "metadata": {},
   "outputs": [
    {
     "data": {
      "text/plain": [
       "[5.195886892563631,\n",
       " 5.099312417190059,\n",
       " 0.09657447537356904,\n",
       " 10.26275416426474,\n",
       " 10.011641930576975,\n",
       " 0.2511122336877624,\n",
       " 34.801919025083684,\n",
       " 31.99023004186145,\n",
       " 2.8116889832222154,\n",
       " 6.712468679356894,\n",
       " 6.6445822078223875,\n",
       " 0.0678864715345078,\n",
       " 66.1724231659579,\n",
       " 60.038984323833326,\n",
       " 6.133438842124648]"
      ]
     },
     "execution_count": 20,
     "metadata": {},
     "output_type": "execute_result"
    }
   ],
   "source": [
    "mean_values2 = df[[\n",
    "    'Hrs_RNDON',\n",
    "    'Hrs_RNDON_emp',\n",
    "    'Hrs_RNDON_ctr',\n",
    "    'Hrs_RNadmin',\n",
    "    'Hrs_RNadmin_emp',\n",
    "    'Hrs_RNadmin_ctr',\n",
    "    'Hrs_RN',\n",
    "    'Hrs_RN_emp',\n",
    "    'Hrs_RN_ctr',\n",
    "    'Hrs_LPNadmin',\n",
    "    'Hrs_LPNadmin_emp',\n",
    "    'Hrs_LPNadmin_ctr',\n",
    "    'Hrs_LPN',\n",
    "    'Hrs_LPN_emp',\n",
    "    'Hrs_LPN_ctr'\n",
    "]].mean().tolist()\n",
    "mean_values2"
   ]
  },
  {
   "cell_type": "code",
   "execution_count": 21,
   "id": "0d23af30-48cc-4985-891c-40dc11ddb1f0",
   "metadata": {},
   "outputs": [
    {
     "name": "stdout",
     "output_type": "stream",
     "text": [
      "53.801865062843156\n",
      "12.377584872563125\n",
      "10.788796443437837\n"
     ]
    }
   ],
   "source": [
    "print(5.195886892563631/0.09657447537356904)\n",
    "print(34.801919025083684/2.8116889832222154)\n",
    "print(66.1724231659579/6.133438842124648)"
   ]
  },
  {
   "cell_type": "code",
   "execution_count": 22,
   "id": "88cdff4b-0c57-4523-aade-98fb77bff059",
   "metadata": {},
   "outputs": [
    {
     "ename": "KeyError",
     "evalue": "'NurseHours_total'",
     "output_type": "error",
     "traceback": [
      "\u001b[1;31m---------------------------------------------------------------------------\u001b[0m",
      "\u001b[1;31mKeyError\u001b[0m                                  Traceback (most recent call last)",
      "File \u001b[1;32m~\\anaconda3\\Lib\\site-packages\\pandas\\core\\indexes\\base.py:3805\u001b[0m, in \u001b[0;36mIndex.get_loc\u001b[1;34m(self, key)\u001b[0m\n\u001b[0;32m   3804\u001b[0m \u001b[38;5;28;01mtry\u001b[39;00m:\n\u001b[1;32m-> 3805\u001b[0m     \u001b[38;5;28;01mreturn\u001b[39;00m \u001b[38;5;28mself\u001b[39m\u001b[38;5;241m.\u001b[39m_engine\u001b[38;5;241m.\u001b[39mget_loc(casted_key)\n\u001b[0;32m   3806\u001b[0m \u001b[38;5;28;01mexcept\u001b[39;00m \u001b[38;5;167;01mKeyError\u001b[39;00m \u001b[38;5;28;01mas\u001b[39;00m err:\n",
      "File \u001b[1;32mindex.pyx:167\u001b[0m, in \u001b[0;36mpandas._libs.index.IndexEngine.get_loc\u001b[1;34m()\u001b[0m\n",
      "File \u001b[1;32mindex.pyx:196\u001b[0m, in \u001b[0;36mpandas._libs.index.IndexEngine.get_loc\u001b[1;34m()\u001b[0m\n",
      "File \u001b[1;32mpandas\\\\_libs\\\\hashtable_class_helper.pxi:7081\u001b[0m, in \u001b[0;36mpandas._libs.hashtable.PyObjectHashTable.get_item\u001b[1;34m()\u001b[0m\n",
      "File \u001b[1;32mpandas\\\\_libs\\\\hashtable_class_helper.pxi:7089\u001b[0m, in \u001b[0;36mpandas._libs.hashtable.PyObjectHashTable.get_item\u001b[1;34m()\u001b[0m\n",
      "\u001b[1;31mKeyError\u001b[0m: 'NurseHours_total'",
      "\nThe above exception was the direct cause of the following exception:\n",
      "\u001b[1;31mKeyError\u001b[0m                                  Traceback (most recent call last)",
      "Cell \u001b[1;32mIn[22], line 1\u001b[0m\n\u001b[1;32m----> 1\u001b[0m df_population_ratio_edited[\u001b[38;5;124m'\u001b[39m\u001b[38;5;124mNHR Per Resident Ratio\u001b[39m\u001b[38;5;124m'\u001b[39m] \u001b[38;5;241m=\u001b[39m df_population_ratio_edited[\u001b[38;5;124m'\u001b[39m\u001b[38;5;124mNurseHours_total\u001b[39m\u001b[38;5;124m'\u001b[39m]\u001b[38;5;241m/\u001b[39mdf_population_ratio_edited[\u001b[38;5;124m'\u001b[39m\u001b[38;5;124mMDScensus\u001b[39m\u001b[38;5;124m'\u001b[39m]\n\u001b[0;32m      2\u001b[0m df_population_ratio_edited[\u001b[38;5;124m'\u001b[39m\u001b[38;5;124mNHR Emp. Per Resident Ratio\u001b[39m\u001b[38;5;124m'\u001b[39m] \u001b[38;5;241m=\u001b[39m df_population_ratio_edited[\u001b[38;5;124m'\u001b[39m\u001b[38;5;124mNurseHours_emp\u001b[39m\u001b[38;5;124m'\u001b[39m]\u001b[38;5;241m/\u001b[39mdf_population_ratio_edited[\u001b[38;5;124m'\u001b[39m\u001b[38;5;124mMDScensus\u001b[39m\u001b[38;5;124m'\u001b[39m]\n\u001b[0;32m      3\u001b[0m df_population_ratio_edited[\u001b[38;5;124m'\u001b[39m\u001b[38;5;124mNHR CTR. Per Resident Ratio\u001b[39m\u001b[38;5;124m'\u001b[39m] \u001b[38;5;241m=\u001b[39m df_population_ratio_edited[\u001b[38;5;124m'\u001b[39m\u001b[38;5;124mNurseHours_ctr\u001b[39m\u001b[38;5;124m'\u001b[39m]\u001b[38;5;241m/\u001b[39mdf_population_ratio_edited[\u001b[38;5;124m'\u001b[39m\u001b[38;5;124mMDScensus\u001b[39m\u001b[38;5;124m'\u001b[39m]\n",
      "File \u001b[1;32m~\\anaconda3\\Lib\\site-packages\\pandas\\core\\frame.py:4102\u001b[0m, in \u001b[0;36mDataFrame.__getitem__\u001b[1;34m(self, key)\u001b[0m\n\u001b[0;32m   4100\u001b[0m \u001b[38;5;28;01mif\u001b[39;00m \u001b[38;5;28mself\u001b[39m\u001b[38;5;241m.\u001b[39mcolumns\u001b[38;5;241m.\u001b[39mnlevels \u001b[38;5;241m>\u001b[39m \u001b[38;5;241m1\u001b[39m:\n\u001b[0;32m   4101\u001b[0m     \u001b[38;5;28;01mreturn\u001b[39;00m \u001b[38;5;28mself\u001b[39m\u001b[38;5;241m.\u001b[39m_getitem_multilevel(key)\n\u001b[1;32m-> 4102\u001b[0m indexer \u001b[38;5;241m=\u001b[39m \u001b[38;5;28mself\u001b[39m\u001b[38;5;241m.\u001b[39mcolumns\u001b[38;5;241m.\u001b[39mget_loc(key)\n\u001b[0;32m   4103\u001b[0m \u001b[38;5;28;01mif\u001b[39;00m is_integer(indexer):\n\u001b[0;32m   4104\u001b[0m     indexer \u001b[38;5;241m=\u001b[39m [indexer]\n",
      "File \u001b[1;32m~\\anaconda3\\Lib\\site-packages\\pandas\\core\\indexes\\base.py:3812\u001b[0m, in \u001b[0;36mIndex.get_loc\u001b[1;34m(self, key)\u001b[0m\n\u001b[0;32m   3807\u001b[0m     \u001b[38;5;28;01mif\u001b[39;00m \u001b[38;5;28misinstance\u001b[39m(casted_key, \u001b[38;5;28mslice\u001b[39m) \u001b[38;5;129;01mor\u001b[39;00m (\n\u001b[0;32m   3808\u001b[0m         \u001b[38;5;28misinstance\u001b[39m(casted_key, abc\u001b[38;5;241m.\u001b[39mIterable)\n\u001b[0;32m   3809\u001b[0m         \u001b[38;5;129;01mand\u001b[39;00m \u001b[38;5;28many\u001b[39m(\u001b[38;5;28misinstance\u001b[39m(x, \u001b[38;5;28mslice\u001b[39m) \u001b[38;5;28;01mfor\u001b[39;00m x \u001b[38;5;129;01min\u001b[39;00m casted_key)\n\u001b[0;32m   3810\u001b[0m     ):\n\u001b[0;32m   3811\u001b[0m         \u001b[38;5;28;01mraise\u001b[39;00m InvalidIndexError(key)\n\u001b[1;32m-> 3812\u001b[0m     \u001b[38;5;28;01mraise\u001b[39;00m \u001b[38;5;167;01mKeyError\u001b[39;00m(key) \u001b[38;5;28;01mfrom\u001b[39;00m \u001b[38;5;21;01merr\u001b[39;00m\n\u001b[0;32m   3813\u001b[0m \u001b[38;5;28;01mexcept\u001b[39;00m \u001b[38;5;167;01mTypeError\u001b[39;00m:\n\u001b[0;32m   3814\u001b[0m     \u001b[38;5;66;03m# If we have a listlike key, _check_indexing_error will raise\u001b[39;00m\n\u001b[0;32m   3815\u001b[0m     \u001b[38;5;66;03m#  InvalidIndexError. Otherwise we fall through and re-raise\u001b[39;00m\n\u001b[0;32m   3816\u001b[0m     \u001b[38;5;66;03m#  the TypeError.\u001b[39;00m\n\u001b[0;32m   3817\u001b[0m     \u001b[38;5;28mself\u001b[39m\u001b[38;5;241m.\u001b[39m_check_indexing_error(key)\n",
      "\u001b[1;31mKeyError\u001b[0m: 'NurseHours_total'"
     ]
    }
   ],
   "source": [
    "df_population_ratio_edited['NHR Per Resident Ratio'] = df_population_ratio_edited['NurseHours_total']/df_population_ratio_edited['MDScensus']\n",
    "df_population_ratio_edited['NHR Emp. Per Resident Ratio'] = df_population_ratio_edited['NurseHours_emp']/df_population_ratio_edited['MDScensus']\n",
    "df_population_ratio_edited['NHR CTR. Per Resident Ratio'] = df_population_ratio_edited['NurseHours_ctr']/df_population_ratio_edited['MDScensus']"
   ]
  },
  {
   "cell_type": "code",
   "execution_count": null,
   "id": "4fe64b7d-8905-4d78-b35f-638ec3aa814a",
   "metadata": {},
   "outputs": [],
   "source": [
    "# df_population_ratio_edited.info()"
   ]
  },
  {
   "cell_type": "code",
   "execution_count": null,
   "id": "3ea4526f-06e8-4d22-ac7d-8138e50c74a2",
   "metadata": {},
   "outputs": [],
   "source": [
    "df_population_ratio_edited['City & State'] = df_population_ratio_edited['CITY']+' '+df_population_ratio_edited['STATE']"
   ]
  },
  {
   "cell_type": "code",
   "execution_count": null,
   "id": "ac0549f8-93e0-4583-87b0-f71be40ec0f8",
   "metadata": {},
   "outputs": [],
   "source": [
    "df_NHR_Per_Resident = df_population_ratio_edited[['PROVNAME','City & State','NHR Per Resident Ratio','NHR Emp. Per Resident Ratio','NHR CTR. Per Resident Ratio','Rank','Population 2024','Annual Change']]"
   ]
  },
  {
   "cell_type": "code",
   "execution_count": null,
   "id": "bd8aeaa6-22d3-48aa-9451-8235c0b56e4c",
   "metadata": {},
   "outputs": [],
   "source": [
    "df_NHR_Per_Resident_withProv = df_NHR_Per_Resident.copy()"
   ]
  },
  {
   "cell_type": "code",
   "execution_count": null,
   "id": "8171e34f-aeeb-4980-8225-653e83074f50",
   "metadata": {},
   "outputs": [],
   "source": [
    "mean_values = df_NHR_Per_Resident[[\n",
    "    \"NHR Per Resident Ratio\",\n",
    "    \"NHR Emp. Per Resident Ratio\",\n",
    "    \"NHR CTR. Per Resident Ratio\"\n",
    "]].mean().tolist()\n",
    "\n",
    "print(mean_values)"
   ]
  },
  {
   "cell_type": "code",
   "execution_count": null,
   "id": "7aa4e9e5-8691-423a-98bd-ff6e335d02ec",
   "metadata": {},
   "outputs": [],
   "source": [
    "df_NHR_Per_Resident.loc[:, 'NHRs per Resident over Mean'] = (\n",
    "    df_NHR_Per_Resident['NHR Per Resident Ratio'] - mean_values[0]\n",
    ")"
   ]
  },
  {
   "cell_type": "code",
   "execution_count": null,
   "id": "daa962d5-8166-40c9-920b-9713ff25ef9d",
   "metadata": {},
   "outputs": [],
   "source": [
    "df_NHR_Per_Resident.loc[:,'NHRCTR. Per Resident Over Mean'] = (\n",
    "    df_NHR_Per_Resident['NHR CTR. Per Resident Ratio'] - mean_values[2]\n",
    ")"
   ]
  },
  {
   "cell_type": "code",
   "execution_count": null,
   "id": "f7494952-1a41-4749-98c7-d8b0847a36e1",
   "metadata": {},
   "outputs": [],
   "source": [
    "# for col in df_population_ratio_edited.columns:\n",
    "#     print(col)"
   ]
  },
  {
   "cell_type": "code",
   "execution_count": null,
   "id": "48e4da70-612d-40c9-b6bd-9d94223a4d21",
   "metadata": {},
   "outputs": [],
   "source": [
    "df_population_ratio_edited_sum = df_population_ratio_edited.groupby(['CITY','STATE','City & State','Rank'])[['MDScensus','NurseHours_total','NurseHours_emp','NurseHours_ctr']].sum()\n",
    "df_population_ratio_edited_sum.sort_values(by='Rank')"
   ]
  },
  {
   "cell_type": "code",
   "execution_count": null,
   "id": "35129860-e371-46c7-ac07-92a195155aaf",
   "metadata": {},
   "outputs": [],
   "source": [
    "df['City & State'] = df['CITY']+' '+df['STATE']"
   ]
  },
  {
   "cell_type": "code",
   "execution_count": null,
   "id": "dd820868-bf6f-4597-b7a7-ff4c675ccf39",
   "metadata": {},
   "outputs": [],
   "source": [
    "df_population_ratio_edited_top50 = df_population_ratio_edited[df_population_ratio_edited['Rank'] <= 50]"
   ]
  },
  {
   "cell_type": "code",
   "execution_count": null,
   "id": "036a4930-6c83-4ad1-9cc8-51d87c0f8595",
   "metadata": {},
   "outputs": [],
   "source": [
    "df_NHR_Per_Resident_top50 = df_NHR_Per_Resident_top50[df_NHR_Per_Resident_top50['Rank']<= 50]"
   ]
  },
  {
   "cell_type": "code",
   "execution_count": null,
   "id": "8d6c70fa-1d31-45a0-a4f7-39474f41cf6e",
   "metadata": {},
   "outputs": [],
   "source": [
    "df_population_ratio_edited.to_csv('df_population_ratio_edited.csv', index=False)"
   ]
  },
  {
   "cell_type": "code",
   "execution_count": null,
   "id": "02256426-e46b-4eb5-8425-599b4423d5c5",
   "metadata": {},
   "outputs": [],
   "source": [
    "df_population_ratio_edited_f = df_population_ratio_edited[['PROVNAME','CITY', 'STATE', 'MDScensus', 'Rank', 'Population 2024', 'NHR Per Resident Ratio', 'NHR Emp. Per Resident Ratio','NHR CTR. Per Resident Ratio']]"
   ]
  },
  {
   "cell_type": "code",
   "execution_count": null,
   "id": "f115657c-6447-4edd-b779-fa70e3faa99f",
   "metadata": {},
   "outputs": [],
   "source": [
    "df_population_ratio_edited_f.loc[:,'Rank'] = df_population_ratio_edited_f['Rank'].astype(int)"
   ]
  },
  {
   "cell_type": "code",
   "execution_count": null,
   "id": "eb8590af-526e-4d0a-9e8e-6124cd4fb1e5",
   "metadata": {},
   "outputs": [],
   "source": [
    "df_population_ratio_edited_f.to_csv('df_population_ratio_edited_f.csv',index=False)"
   ]
  },
  {
   "cell_type": "code",
   "execution_count": null,
   "id": "260bce29-359c-4f32-86d9-cf156f54f37e",
   "metadata": {},
   "outputs": [],
   "source": [
    "df_with_provider = pd.merge(\n",
    "    df_population_ratio_edited, \n",
    "    df_NHR_Per_Resident, \n",
    "    left_on=['City & State'], \n",
    "    right_on=['City & State'], \n",
    "    how='inner'\n",
    ")"
   ]
  },
  {
   "cell_type": "code",
   "execution_count": null,
   "id": "6e53503d-61d5-4278-949d-da89d59cfcf7",
   "metadata": {},
   "outputs": [],
   "source": [
    "for col in df_with_provider.columns:\n",
    "    print(col)"
   ]
  },
  {
   "cell_type": "code",
   "execution_count": null,
   "id": "99b4f8ad-be28-4d4d-b255-90ead9af9919",
   "metadata": {},
   "outputs": [],
   "source": [
    "df_with_provider = df_with_provider[['PROVNAME','MDScensus','City & State', 'Hrs_RN','Hrs_RN_emp','Hrs_RN_ctr','Hrs_LPN','Hrs_LPN_emp','Hrs_LPN_ctr','NHR Per Resident Ratio','NHR Emp. Per Resident Ratio','NHR CTR. Per Resident Ratio','Rank','Population 2024','Annual Change']]"
   ]
  },
  {
   "cell_type": "code",
   "execution_count": null,
   "id": "5e1f1f69-8ae2-470c-9a99-aadd2a0ff75b",
   "metadata": {},
   "outputs": [],
   "source": [
    "df_grouped_providerandlocation = df_with_provider.groupby(['PROVNAME','City & State','Rank','Population 2024','Annual Change'])[['MDScensus','Hrs_RN','Hrs_RN_emp', 'Hrs_RN_ctr','Hrs_LPN','Hrs_LPN_emp','Hrs_LPN_ctr']].sum().reset_index()\t"
   ]
  },
  {
   "cell_type": "code",
   "execution_count": null,
   "id": "da8070ca-a11e-47d1-abcb-cafd2a8dd425",
   "metadata": {},
   "outputs": [],
   "source": [
    "df_grouped_location = df_with_provider.groupby(['City & State','Rank','Population 2024','Annual Change'])[['MDScensus','Hrs_RN','Hrs_RN_emp', 'Hrs_RN_ctr','Hrs_LPN','Hrs_LPN_emp','Hrs_LPN_ctr']].sum().reset_index()\t"
   ]
  },
  {
   "cell_type": "code",
   "execution_count": null,
   "id": "73d759c8-dd79-4c0e-ac71-619cccab3b63",
   "metadata": {},
   "outputs": [],
   "source": [
    "# population['City & State'] = population['US City']+' '+population['Acronym']"
   ]
  },
  {
   "cell_type": "code",
   "execution_count": null,
   "id": "c4dc355f-970c-4121-9a54-766231624c31",
   "metadata": {},
   "outputs": [],
   "source": [
    "# df_with_provider_grouped_with_geo = pd.merge(df_with_provider_grouped, population, left_on= 'City & State', right_on = 'City & State')"
   ]
  },
  {
   "cell_type": "code",
   "execution_count": null,
   "id": "d2bac4d8-9635-45f2-9076-31ba242cd78d",
   "metadata": {},
   "outputs": [],
   "source": [
    "df_grouped_providerandlocation_f = df_grouped_providerandlocation[['PROVNAME','City & State','MDScensus','Hrs_RN','Hrs_RN_emp','Hrs_RN_ctr','Hrs_LPN','Hrs_LPN_emp','Rank','Population 2024','Annual Change']]"
   ]
  },
  {
   "cell_type": "code",
   "execution_count": null,
   "id": "73b6bd1a-fabf-42db-9f84-25ff6340ef92",
   "metadata": {},
   "outputs": [],
   "source": [
    "# df_grouped_providerandlocation_f.to_csv('df_grouped_providerandlocation_f.csv',index=False)"
   ]
  },
  {
   "cell_type": "code",
   "execution_count": null,
   "id": "e922cc44-6d38-45bd-8faa-ad1b8972a63f",
   "metadata": {},
   "outputs": [],
   "source": [
    "# df_grouped_location.to_csv('df_grouped_location.csv',index=False)"
   ]
  },
  {
   "cell_type": "code",
   "execution_count": null,
   "id": "5ee03408-4c80-45ed-a720-5a770ffd598e",
   "metadata": {},
   "outputs": [],
   "source": [
    "# Df_test = df_grouped_location[df_grouped_location['Rank']<=50]"
   ]
  },
  {
   "cell_type": "code",
   "execution_count": null,
   "id": "2940c2b6-941b-4fd7-b063-f0ec4067af94",
   "metadata": {},
   "outputs": [],
   "source": [
    "# df_grouped_providerandlocation_f2 = df_grouped_providerandlocation_f[df_grouped_providerandlocation_f['City & State'] == 'WASHINGTON DC']"
   ]
  },
  {
   "cell_type": "code",
   "execution_count": null,
   "id": "cb664f58-abff-4a7e-9661-84ffcf4af59a",
   "metadata": {},
   "outputs": [],
   "source": [
    "df.info()"
   ]
  },
  {
   "cell_type": "code",
   "execution_count": null,
   "id": "6590b80a-0dbe-4e94-85e1-fde805f352d2",
   "metadata": {},
   "outputs": [],
   "source": []
  }
 ],
 "metadata": {
  "kernelspec": {
   "display_name": "Python 3 (ipykernel)",
   "language": "python",
   "name": "python3"
  },
  "language_info": {
   "codemirror_mode": {
    "name": "ipython",
    "version": 3
   },
   "file_extension": ".py",
   "mimetype": "text/x-python",
   "name": "python",
   "nbconvert_exporter": "python",
   "pygments_lexer": "ipython3",
   "version": "3.12.4"
  }
 },
 "nbformat": 4,
 "nbformat_minor": 5
}
